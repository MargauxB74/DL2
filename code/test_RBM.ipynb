{
 "cells": [
  {
   "cell_type": "code",
   "execution_count": 1,
   "metadata": {},
   "outputs": [],
   "source": [
    "import utils\n",
    "from principal_RBM_alpha import train_RBM, init_RBM, generer_images_RBM\n",
    "from utils import lire_alpha_digit\n",
    "import numpy as np\n",
    "import matplotlib.pyplot as plt\n",
    "from sklearn.metrics import confusion_matrix\n",
    "import seaborn as sn\n",
    "import pandas as pd"
   ]
  },
  {
   "cell_type": "code",
   "execution_count": 2,
   "metadata": {},
   "outputs": [
    {
     "data": {
      "text/plain": [
       "array([[0, 0, 0, ..., 1, 1, 1],\n",
       "       [0, 0, 0, ..., 1, 1, 0],\n",
       "       [0, 0, 0, ..., 1, 0, 0],\n",
       "       ...,\n",
       "       [0, 0, 0, ..., 1, 1, 1],\n",
       "       [0, 0, 0, ..., 1, 0, 0],\n",
       "       [0, 1, 1, ..., 1, 1, 1]], dtype=int8)"
      ]
     },
     "execution_count": 2,
     "metadata": {},
     "output_type": "execute_result"
    }
   ],
   "source": [
    "data = lire_alpha_digit('3')\n",
    "data"
   ]
  },
  {
   "cell_type": "code",
   "execution_count": 3,
   "metadata": {},
   "outputs": [],
   "source": [
    "p = data.shape[1]\n",
    "q = 100\n",
    "nb_iter = 100\n",
    "batch_size = 200\n",
    "eps = 0.1"
   ]
  },
  {
   "cell_type": "code",
   "execution_count": 4,
   "metadata": {},
   "outputs": [
    {
     "data": {
      "text/plain": [
       "<principal_RBM_alpha.RBM at 0x7f8c11802ac0>"
      ]
     },
     "execution_count": 4,
     "metadata": {},
     "output_type": "execute_result"
    }
   ],
   "source": [
    "init = init_RBM(p,q)\n",
    "init"
   ]
  },
  {
   "cell_type": "code",
   "execution_count": 5,
   "metadata": {},
   "outputs": [
    {
     "name": "stdout",
     "output_type": "stream",
     "text": [
      "Epoch: 0 ------ Reconstruction error: 0.4811698717948718\n",
      "Epoch: 1 ------ Reconstruction error: 0.36322115384615383\n",
      "Epoch: 2 ------ Reconstruction error: 0.32540064102564104\n",
      "Epoch: 3 ------ Reconstruction error: 0.31834935897435895\n",
      "Epoch: 4 ------ Reconstruction error: 0.32411858974358976\n",
      "Epoch: 5 ------ Reconstruction error: 0.316025641025641\n",
      "Epoch: 6 ------ Reconstruction error: 0.31362179487179487\n",
      "Epoch: 7 ------ Reconstruction error: 0.31025641025641026\n",
      "Epoch: 8 ------ Reconstruction error: 0.3034455128205128\n",
      "Epoch: 9 ------ Reconstruction error: 0.30080128205128204\n",
      "Epoch: 10 ------ Reconstruction error: 0.30424679487179485\n",
      "Epoch: 11 ------ Reconstruction error: 0.2948717948717949\n",
      "Epoch: 12 ------ Reconstruction error: 0.3036858974358974\n",
      "Epoch: 13 ------ Reconstruction error: 0.2907051282051282\n",
      "Epoch: 14 ------ Reconstruction error: 0.2880608974358974\n",
      "Epoch: 15 ------ Reconstruction error: 0.28846153846153844\n",
      "Epoch: 16 ------ Reconstruction error: 0.27708333333333335\n",
      "Epoch: 17 ------ Reconstruction error: 0.2792467948717949\n",
      "Epoch: 18 ------ Reconstruction error: 0.274599358974359\n",
      "Epoch: 19 ------ Reconstruction error: 0.27403846153846156\n",
      "Epoch: 20 ------ Reconstruction error: 0.2619391025641026\n",
      "Epoch: 21 ------ Reconstruction error: 0.26338141025641026\n",
      "Epoch: 22 ------ Reconstruction error: 0.2626602564102564\n",
      "Epoch: 23 ------ Reconstruction error: 0.25096153846153846\n",
      "Epoch: 24 ------ Reconstruction error: 0.2502403846153846\n",
      "Epoch: 25 ------ Reconstruction error: 0.25112179487179487\n",
      "Epoch: 26 ------ Reconstruction error: 0.2550480769230769\n",
      "Epoch: 27 ------ Reconstruction error: 0.2455128205128205\n",
      "Epoch: 28 ------ Reconstruction error: 0.2421474358974359\n",
      "Epoch: 29 ------ Reconstruction error: 0.24110576923076923\n",
      "Epoch: 30 ------ Reconstruction error: 0.23485576923076923\n",
      "Epoch: 31 ------ Reconstruction error: 0.23846153846153847\n",
      "Epoch: 32 ------ Reconstruction error: 0.22716346153846154\n",
      "Epoch: 33 ------ Reconstruction error: 0.2310897435897436\n",
      "Epoch: 34 ------ Reconstruction error: 0.22716346153846154\n",
      "Epoch: 35 ------ Reconstruction error: 0.22748397435897436\n",
      "Epoch: 36 ------ Reconstruction error: 0.22516025641025642\n",
      "Epoch: 37 ------ Reconstruction error: 0.22716346153846154\n",
      "Epoch: 38 ------ Reconstruction error: 0.2203525641025641\n",
      "Epoch: 39 ------ Reconstruction error: 0.21899038461538461\n",
      "Epoch: 40 ------ Reconstruction error: 0.215625\n",
      "Epoch: 41 ------ Reconstruction error: 0.21370192307692307\n",
      "Epoch: 42 ------ Reconstruction error: 0.2186698717948718\n",
      "Epoch: 43 ------ Reconstruction error: 0.2125801282051282\n",
      "Epoch: 44 ------ Reconstruction error: 0.2125801282051282\n",
      "Epoch: 45 ------ Reconstruction error: 0.20857371794871796\n",
      "Epoch: 46 ------ Reconstruction error: 0.20408653846153846\n",
      "Epoch: 47 ------ Reconstruction error: 0.20608974358974358\n",
      "Epoch: 48 ------ Reconstruction error: 0.20032051282051283\n",
      "Epoch: 49 ------ Reconstruction error: 0.20120192307692308\n"
     ]
    }
   ],
   "source": [
    "training = train_RBM(init, data, nb_iter=50, batch_size=200, eps= 0.1)\n",
    "trained_rbm, loss = training"
   ]
  },
  {
   "cell_type": "code",
   "execution_count": 6,
   "metadata": {},
   "outputs": [
    {
     "data": {
      "image/png": "[encoded data removed]",
      "text/plain": [
       "<Figure size 432x288 with 1 Axes>"
      ]
     },
     "metadata": {
      "needs_background": "light"
     },
     "output_type": "display_data"
    },
    {
     "data": {
      "image/png": "[encoded data removed]",
      "text/plain": [
       "<Figure size 432x288 with 1 Axes>"
      ]
     },
     "metadata": {
      "needs_background": "light"
     },
     "output_type": "display_data"
    },
    {
     "data": {
      "image/png": "[encoded data removed]",
      "text/plain": [
       "<Figure size 432x288 with 1 Axes>"
      ]
     },
     "metadata": {
      "needs_background": "light"
     },
     "output_type": "display_data"
    }
   ],
   "source": [
    "image = generer_images_RBM(trained_rbm,nb_images=3,nb_iter_gibbs=1000)\n"
   ]
  },
  {
   "cell_type": "code",
   "execution_count": null,
   "metadata": {},
   "outputs": [],
   "source": []
  }
 ],
 "metadata": {
  "interpreter": {
   "hash": "f423fad3a94e2f8b564f5e2e6160feb3a3304c1a4d54e5fadaa3ae5b0a046571"
  },
  "kernelspec": {
   "display_name": "Python 3.8.8 ('base')",
   "language": "python",
   "name": "python3"
  },
  "language_info": {
   "codemirror_mode": {
    "name": "ipython",
    "version": 3
   },
   "file_extension": ".py",
   "mimetype": "text/x-python",
   "name": "python",
   "nbconvert_exporter": "python",
   "pygments_lexer": "ipython3",
   "version": "3.8.8"
  },
  "orig_nbformat": 4
 },
 "nbformat": 4,
 "nbformat_minor": 2
}
