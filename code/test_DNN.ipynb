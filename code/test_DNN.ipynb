{
 "cells": [
  {
   "cell_type": "code",
   "execution_count": 1,
   "metadata": {},
   "outputs": [],
   "source": [
    "from utils import lire_alpha_digit\n",
    "import principal_DBN_alpha as DBN\n",
    "import principal_DNN_MNIST as DNN\n",
    "import numpy as np\n",
    "import matplotlib.pyplot as plt\n",
    "\n",
    "import utils"
   ]
  },
  {
   "cell_type": "code",
   "execution_count": 2,
   "metadata": {},
   "outputs": [
    {
     "name": "stdout",
     "output_type": "stream",
     "text": [
      "Download completed, data available in /data/binaryalphadigs.mat\n",
      "[[0 0 0 ... 1 1 1]\n",
      " [0 0 0 ... 1 1 0]\n",
      " [0 0 0 ... 1 0 0]\n",
      " ...\n",
      " [0 0 0 ... 1 1 1]\n",
      " [0 0 0 ... 1 0 0]\n",
      " [0 1 1 ... 1 1 1]]\n"
     ]
    }
   ],
   "source": [
    "X_train = lire_alpha_digit('3')\n",
    "p = X_train.shape[1]\n",
    "num_layers=3\n",
    "neurons = [(p, p // 2), (p // 2, p // 4), (p // 4, p // 6)]\n",
    "\n",
    "assert num_layers == len(neurons)\n",
    "\n",
    "dnn = DBN.init_DNN(num_layers, neurons)\n"
   ]
  },
  {
   "cell_type": "code",
   "execution_count": 3,
   "metadata": {},
   "outputs": [],
   "source": [
    "sortie = DNN.entree_sortie_reseau(dnn, X_train)"
   ]
  },
  {
   "cell_type": "code",
   "execution_count": 4,
   "metadata": {},
   "outputs": [],
   "source": [
    "X_train, X_test, y_train, y_test = utils.fetch_mnist_digits_data(60000)"
   ]
  }
 ],
 "metadata": {
  "interpreter": {
   "hash": "f423fad3a94e2f8b564f5e2e6160feb3a3304c1a4d54e5fadaa3ae5b0a046571"
  },
  "kernelspec": {
   "display_name": "Python 3.8.8 ('base')",
   "language": "python",
   "name": "python3"
  },
  "language_info": {
   "codemirror_mode": {
    "name": "ipython",
    "version": 3
   },
   "file_extension": ".py",
   "mimetype": "text/x-python",
   "name": "python",
   "nbconvert_exporter": "python",
   "pygments_lexer": "ipython3",
   "version": "3.8.8"
  },
  "orig_nbformat": 4
 },
 "nbformat": 4,
 "nbformat_minor": 2
}
