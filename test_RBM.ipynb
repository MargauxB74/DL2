{
 "cells": [
  {
   "cell_type": "code",
   "execution_count": 2,
   "metadata": {},
   "outputs": [],
   "source": [
    "import utils\n",
    "from principal_RBM_alpha import train_RBM, init_RBM, generer_images_RBM\n",
    "from utils import lire_alpha_digit\n",
    "import numpy as np\n",
    "import matplotlib.pyplot as plt\n",
    "from sklearn.metrics import confusion_matrix\n",
    "import seaborn as sn\n",
    "import pandas as pd"
   ]
  },
  {
   "cell_type": "code",
   "execution_count": 3,
   "metadata": {},
   "outputs": [
    {
     "data": {
      "text/plain": [
       "array([[0, 0, 0, ..., 1, 1, 1],\n",
       "       [0, 0, 0, ..., 1, 1, 0],\n",
       "       [0, 0, 0, ..., 1, 0, 0],\n",
       "       ...,\n",
       "       [0, 0, 0, ..., 1, 1, 1],\n",
       "       [0, 0, 0, ..., 1, 0, 0],\n",
       "       [0, 1, 1, ..., 1, 1, 1]], dtype=int8)"
      ]
     },
     "execution_count": 3,
     "metadata": {},
     "output_type": "execute_result"
    }
   ],
   "source": [
    "data = lire_alpha_digit('3')\n",
    "data"
   ]
  },
  {
   "cell_type": "code",
   "execution_count": 4,
   "metadata": {},
   "outputs": [],
   "source": [
    "p = data.shape[1]\n",
    "q = 100\n",
    "nb_iter = 100\n",
    "batch_size = 200\n",
    "eps = 0.1"
   ]
  },
  {
   "cell_type": "code",
   "execution_count": 5,
   "metadata": {},
   "outputs": [
    {
     "data": {
      "text/plain": [
       "<principal_RBM_alpha.RBM at 0x7fc26876e820>"
      ]
     },
     "execution_count": 5,
     "metadata": {},
     "output_type": "execute_result"
    }
   ],
   "source": [
    "init = init_RBM(p,q)\n",
    "init"
   ]
  },
  {
   "cell_type": "code",
   "execution_count": 6,
   "metadata": {},
   "outputs": [
    {
     "name": "stdout",
     "output_type": "stream",
     "text": [
      "Epoch: 0 ------ Reconstruction error: 0.4841346153846154\n",
      "Epoch: 1 ------ Reconstruction error: 0.37403846153846154\n",
      "Epoch: 2 ------ Reconstruction error: 0.3212339743589744\n",
      "Epoch: 3 ------ Reconstruction error: 0.3229166666666667\n",
      "Epoch: 4 ------ Reconstruction error: 0.31875\n",
      "Epoch: 5 ------ Reconstruction error: 0.3142628205128205\n",
      "Epoch: 6 ------ Reconstruction error: 0.31193910256410257\n",
      "Epoch: 7 ------ Reconstruction error: 0.3144230769230769\n",
      "Epoch: 8 ------ Reconstruction error: 0.3088942307692308\n",
      "Epoch: 9 ------ Reconstruction error: 0.3003205128205128\n",
      "Epoch: 10 ------ Reconstruction error: 0.3088141025641026\n",
      "Epoch: 11 ------ Reconstruction error: 0.29471153846153847\n",
      "Epoch: 12 ------ Reconstruction error: 0.290224358974359\n",
      "Epoch: 13 ------ Reconstruction error: 0.29767628205128205\n",
      "Epoch: 14 ------ Reconstruction error: 0.28717948717948716\n",
      "Epoch: 15 ------ Reconstruction error: 0.2842948717948718\n",
      "Epoch: 16 ------ Reconstruction error: 0.2824519230769231\n",
      "Epoch: 17 ------ Reconstruction error: 0.2766826923076923\n",
      "Epoch: 18 ------ Reconstruction error: 0.2709134615384615\n",
      "Epoch: 19 ------ Reconstruction error: 0.26490384615384616\n",
      "Epoch: 20 ------ Reconstruction error: 0.2659455128205128\n",
      "Epoch: 21 ------ Reconstruction error: 0.2693910256410256\n",
      "Epoch: 22 ------ Reconstruction error: 0.26145833333333335\n",
      "Epoch: 23 ------ Reconstruction error: 0.25432692307692306\n",
      "Epoch: 24 ------ Reconstruction error: 0.26490384615384616\n",
      "Epoch: 25 ------ Reconstruction error: 0.25224358974358974\n",
      "Epoch: 26 ------ Reconstruction error: 0.24919871794871795\n",
      "Epoch: 27 ------ Reconstruction error: 0.25064102564102564\n",
      "Epoch: 28 ------ Reconstruction error: 0.24759615384615385\n",
      "Epoch: 29 ------ Reconstruction error: 0.24919871794871795\n",
      "Epoch: 30 ------ Reconstruction error: 0.24102564102564103\n",
      "Epoch: 31 ------ Reconstruction error: 0.23693910256410255\n",
      "Epoch: 32 ------ Reconstruction error: 0.23966346153846155\n",
      "Epoch: 33 ------ Reconstruction error: 0.23501602564102564\n",
      "Epoch: 34 ------ Reconstruction error: 0.22419871794871796\n",
      "Epoch: 35 ------ Reconstruction error: 0.22708333333333333\n",
      "Epoch: 36 ------ Reconstruction error: 0.23012820512820512\n",
      "Epoch: 37 ------ Reconstruction error: 0.23125\n",
      "Epoch: 38 ------ Reconstruction error: 0.22099358974358974\n",
      "Epoch: 39 ------ Reconstruction error: 0.22620192307692308\n",
      "Epoch: 40 ------ Reconstruction error: 0.2171474358974359\n",
      "Epoch: 41 ------ Reconstruction error: 0.21217948717948718\n",
      "Epoch: 42 ------ Reconstruction error: 0.21290064102564102\n",
      "Epoch: 43 ------ Reconstruction error: 0.2107371794871795\n",
      "Epoch: 44 ------ Reconstruction error: 0.21193910256410256\n",
      "Epoch: 45 ------ Reconstruction error: 0.206650641025641\n",
      "Epoch: 46 ------ Reconstruction error: 0.20448717948717948\n",
      "Epoch: 47 ------ Reconstruction error: 0.20809294871794873\n",
      "Epoch: 48 ------ Reconstruction error: 0.20024038461538463\n",
      "Epoch: 49 ------ Reconstruction error: 0.19575320512820513\n"
     ]
    }
   ],
   "source": [
    "training = train_RBM(init, data, nb_iter=50, batch_size=200, eps= 0.1)\n",
    "trained_rbm, loss = training"
   ]
  },
  {
   "cell_type": "code",
   "execution_count": 8,
   "metadata": {},
   "outputs": [
    {
     "data": {
      "image/png": "[encoded data removed]",
      "text/plain": [
       "<Figure size 432x288 with 1 Axes>"
      ]
     },
     "metadata": {
      "needs_background": "light"
     },
     "output_type": "display_data"
    },
    {
     "data": {
      "image/png": "[encoded data removed]",
      "text/plain": [
       "<Figure size 432x288 with 1 Axes>"
      ]
     },
     "metadata": {
      "needs_background": "light"
     },
     "output_type": "display_data"
    },
    {
     "data": {
      "image/png": "[encoded data removed]",
      "text/plain": [
       "<Figure size 432x288 with 1 Axes>"
      ]
     },
     "metadata": {
      "needs_background": "light"
     },
     "output_type": "display_data"
    }
   ],
   "source": [
    "image = generer_images_RBM(trained_rbm,nb_images=3,iter_gibbs=1000)\n"
   ]
  },
  {
   "cell_type": "code",
   "execution_count": null,
   "metadata": {},
   "outputs": [],
   "source": []
  }
 ],
 "metadata": {
  "interpreter": {
   "hash": "f423fad3a94e2f8b564f5e2e6160feb3a3304c1a4d54e5fadaa3ae5b0a046571"
  },
  "kernelspec": {
   "display_name": "Python 3.8.8 ('base')",
   "language": "python",
   "name": "python3"
  },
  "language_info": {
   "codemirror_mode": {
    "name": "ipython",
    "version": 3
   },
   "file_extension": ".py",
   "mimetype": "text/x-python",
   "name": "python",
   "nbconvert_exporter": "python",
   "pygments_lexer": "ipython3",
   "version": "3.8.8"
  },
  "orig_nbformat": 4
 },
 "nbformat": 4,
 "nbformat_minor": 2
}
